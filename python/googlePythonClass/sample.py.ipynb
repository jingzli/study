{
 "cells": [
  {
   "cell_type": "code",
   "execution_count": 1,
   "metadata": {},
   "outputs": [
    {
     "name": "stdout",
     "output_type": "stream",
     "text": [
      "Hello\n",
      "['c:\\\\python27\\\\lib\\\\site-packages\\\\ipykernel_launcher.py', '-f', 'C:\\\\Users\\\\Liwen\\\\AppData\\\\Roaming\\\\jupyter\\\\runtime\\\\kernel-6178850f-350a-44f8-b8c9-1b3e89645812.json']\n"
     ]
    }
   ],
   "source": [
    "# this class use python 2.4\n",
    "# I'm using pythong 2.7\n",
    "\n",
    "\n",
    "import sys\n",
    "\n",
    "def main():\n",
    "    print \"Hello\"\n",
    "    print sys.argv\n",
    "\n",
    "if __name__ == '__main__':\n",
    "    main()"
   ]
  },
  {
   "cell_type": "code",
   "execution_count": null,
   "metadata": {},
   "outputs": [],
   "source": []
  }
 ],
 "metadata": {
  "kernelspec": {
   "display_name": "Python 2",
   "language": "python",
   "name": "python2"
  },
  "language_info": {
   "codemirror_mode": {
    "name": "ipython",
    "version": 2
   },
   "file_extension": ".py",
   "mimetype": "text/x-python",
   "name": "python",
   "nbconvert_exporter": "python",
   "pygments_lexer": "ipython2",
   "version": "2.7.12"
  }
 },
 "nbformat": 4,
 "nbformat_minor": 2
}
